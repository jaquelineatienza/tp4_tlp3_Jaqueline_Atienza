{
 "cells": [
  {
   "cell_type": "markdown",
   "id": "3e4771e8",
   "metadata": {},
   "source": [
    "# Trabajo Practico n4 - Introduccion a numpy.\n",
    "## Criterios de evaluación.\n",
    "\n",
    "* Se deben utilizar nombres de variables descriptivos y claros (Utilizar la nomeclatura correspondiente para los nombres de variables).\n",
    "* Comentarios claros y concisos que expliquen el propósito de cada sección del código.\n",
    "* Utilizar mensajes de commit **descriptivos**. (Puedes utilizar la extension CONVENTIONAL COMMIT de VS-CODE). \n",
    "* Entrega en tiempo y forma.\n",
    "* Todo el código desarrollado debe ser subido a un repositorio en GitHub (el nombre del repositorio de seguir la siguiente estructura: tp4_tlp3_nombre_apellido).\n",
    "* Para resolver las actividades se debe insertar casillas de codigo entre cada actividad del cuaderno de Jupyter\n",
    "\n",
    "### ¡Importante!\n",
    "**El incumplimiento de los criterios de evaluación restará puntos en la nota final del práctico!**"
   ]
  },
  {
   "cell_type": "markdown",
   "id": "6f3340d9",
   "metadata": {},
   "source": [
    "**Importaciones:**"
   ]
  },
  {
   "cell_type": "code",
   "execution_count": 2,
   "id": "783ab170",
   "metadata": {},
   "outputs": [],
   "source": [
    "import numpy as np\n",
    "from random import randint"
   ]
  },
  {
   "cell_type": "markdown",
   "id": "c5ba7292",
   "metadata": {},
   "source": [
    "**Actividad 1:**: Crea un array de NumPy que contenga los números del 0 al 9. (Debes utilizar un metodo de numpy para su creacion.)"
   ]
  },
  {
   "cell_type": "code",
   "execution_count": null,
   "id": "75029034",
   "metadata": {},
   "outputs": [
    {
     "name": "stdout",
     "output_type": "stream",
     "text": [
      "[0 1 2 3 4 5 6 7 8 9]\n"
     ]
    }
   ],
   "source": [
    "#todo: \n",
    "arr_0_to_9 = np.arange(10)\n",
    "print(arr_0_to_9)"
   ]
  },
  {
   "cell_type": "markdown",
   "id": "df8d4189",
   "metadata": {},
   "source": [
    "Tuve que buscar en internet una forma en la que numpy haga eso por si acaso y si la tenía. Simplemente tengo que indicarle el numero entero de tope."
   ]
  },
  {
   "cell_type": "markdown",
   "id": "cb894927",
   "metadata": {},
   "source": [
    "**Actividad 2:** Crea un array de 5 ceros, y luego cambia el tercer elemento (índice 2) para que sea 5. (Debes utilizar un metodo de numpy para su creacion.)"
   ]
  },
  {
   "cell_type": "code",
   "execution_count": 6,
   "id": "b9cd04a0",
   "metadata": {},
   "outputs": [
    {
     "name": "stdout",
     "output_type": "stream",
     "text": [
      "[0. 0. 0. 0. 0.]\n",
      "[0. 0. 5. 0. 0.]\n"
     ]
    }
   ],
   "source": [
    "#todo:\n",
    "arr_5_zeros = np.zeros(5)\n",
    "print(arr_5_zeros)\n",
    "\n",
    "arr_5_zeros[2] = 5\n",
    "print(arr_5_zeros)\n"
   ]
  },
  {
   "cell_type": "markdown",
   "id": "ac2b8b67",
   "metadata": {},
   "source": [
    "El metodo estaba en el documento que nos proporcionó el profe agustín. Indiqué el indice \"2\" porque coloquialmente  es el tercer elemento."
   ]
  },
  {
   "cell_type": "markdown",
   "id": "000352a3",
   "metadata": {},
   "source": [
    "**Actividad 3:** Genera una matriz 3x3 de números aleatorios entre 0 y 1."
   ]
  },
  {
   "cell_type": "code",
   "execution_count": null,
   "id": "e74354c9",
   "metadata": {},
   "outputs": [
    {
     "data": {
      "text/plain": [
       "array([[0.42371899, 0.09133755, 0.43809761],\n",
       "       [0.52976121, 0.2323543 , 0.08388166],\n",
       "       [0.73258459, 0.4729488 , 0.13406204]])"
      ]
     },
     "execution_count": 15,
     "metadata": {},
     "output_type": "execute_result"
    }
   ],
   "source": [
    "#todo: \n",
    "rand_np_matrix = np.random.rand(3,3)\n",
    "print(rand_np_matrix)"
   ]
  },
  {
   "cell_type": "markdown",
   "id": "e36c832a",
   "metadata": {},
   "source": [
    "Tambien ya estaba este mismo ejemplo en el documento del profe agustín, fue tan simple como indicar las dimensiones de la matriz. "
   ]
  },
  {
   "cell_type": "markdown",
   "id": "6611aaf8",
   "metadata": {},
   "source": [
    "**Actividad 4:** Dado el siguiente array `arr = np.array([10, 20, 30, 40, 50])`\n",
    "1. Suma 5 a cada elemento.\n",
    "2. Multiplica todo por un numero aleatorio (utiliza el modulo random para generarlo.)"
   ]
  },
  {
   "cell_type": "code",
   "execution_count": 23,
   "id": "ed416e11",
   "metadata": {},
   "outputs": [
    {
     "name": "stdout",
     "output_type": "stream",
     "text": [
      "[10 20 30 40 50]\n",
      "[15 25 35 45 55]\n",
      "1\n",
      "[15 25 35 45 55]\n"
     ]
    }
   ],
   "source": [
    "#todo:\n",
    "arr = np.array([10, 20, 30, 40, 50])\n",
    "print(arr)\n",
    "plus_5 = arr + 5\n",
    "print(plus_5)\n",
    "random_number = np.random.randint(0, 10)\n",
    "print(random_number)\n",
    "then_mult_rand = plus_5 * random_number\n",
    "print(then_mult_rand)"
   ]
  },
  {
   "cell_type": "markdown",
   "id": "37667e5e",
   "metadata": {},
   "source": [
    "Fui mostrando paso a paso el proceso del array y el resultado de las opeciones que se le hace a cada elemento del mismo."
   ]
  },
  {
   "cell_type": "markdown",
   "id": "fbd05c4d",
   "metadata": {},
   "source": [
    "**Actividad 5:** Crea una matriz identidad de tamaño 4x4 (unos en la diagonal principal y ceros en el resto)."
   ]
  },
  {
   "cell_type": "code",
   "execution_count": null,
   "id": "6811c19f",
   "metadata": {},
   "outputs": [
    {
     "name": "stdout",
     "output_type": "stream",
     "text": [
      "[[1. 0. 0. 0.]\n",
      " [0. 1. 0. 0.]\n",
      " [0. 0. 1. 0.]\n",
      " [0. 0. 0. 1.]]\n",
      "[[1 0 0 0]\n",
      " [0 1 0 0]\n",
      " [0 0 1 0]\n",
      " [0 0 0 1]]\n"
     ]
    }
   ],
   "source": [
    "#todo:\n",
    "matrix_identity = np.eye(4)\n",
    "print(matrix_identity)\n",
    "\n",
    "matrix_identity_2 = np.zeros((4,4), dtype=int)\n",
    "for i in range(4):\n",
    "    matrix_identity_2[i][i] = 1\n",
    "print(matrix_identity_2)"
   ]
  },
  {
   "cell_type": "markdown",
   "id": "adbfde3b",
   "metadata": {},
   "source": [
    "He visto que existe el metodo de np que te hace ya la matriz identidad pero también quise hacerlo de forma manual ya que es tan simple. Cada ciclo ya que los valores de las dimensiones de cada elemento de la diagonal son iguales sólo hay que hacer un \"for i\" e ir cambiando los ceros por uno. "
   ]
  },
  {
   "cell_type": "markdown",
   "id": "3ec18459",
   "metadata": {},
   "source": [
    "**Actividad 6:** Crea un array que comience en 0 hasta el 20, pero que solo tenga numeros pares yu luego realiza las 4 operaciones basicas. (suma, resta, multiplicacion, division)."
   ]
  },
  {
   "cell_type": "code",
   "execution_count": 31,
   "id": "f0c02872",
   "metadata": {},
   "outputs": [
    {
     "name": "stdout",
     "output_type": "stream",
     "text": [
      "[ 0  2  4  6  8 10 12 14 16 18]\n",
      "[ 1  3  5  7  9 11 13 15 17 19]\n",
      "[-1  1  3  5  7  9 11 13 15 17]\n",
      "[ 0  2  4  6  8 10 12 14 16 18]\n",
      "[ 0.  2.  4.  6.  8. 10. 12. 14. 16. 18.]\n"
     ]
    }
   ],
   "source": [
    "#todo: \n",
    "even_n_arr = np.arange(0, 20, 2)\n",
    "\n",
    "print(even_n_arr)\n",
    "addition = even_n_arr + random_number\n",
    "print(addition)\n",
    "subtraction = even_n_arr - random_number\n",
    "print(subtraction)\n",
    "multiplication = even_n_arr * random_number\n",
    "print(multiplication)\n",
    "division = even_n_arr / random_number\n",
    "print(division)"
   ]
  },
  {
   "cell_type": "markdown",
   "id": "b83a1ac2",
   "metadata": {},
   "source": [
    "Pude hacer la matriz vector simplemente agregando \"paso 2\" y sumando cada elemento de la matrix original por un numero aleatorio previamente definido."
   ]
  }
 ],
 "metadata": {
  "kernelspec": {
   "display_name": "Python 3",
   "language": "python",
   "name": "python3"
  },
  "language_info": {
   "codemirror_mode": {
    "name": "ipython",
    "version": 3
   },
   "file_extension": ".py",
   "mimetype": "text/x-python",
   "name": "python",
   "nbconvert_exporter": "python",
   "pygments_lexer": "ipython3",
   "version": "3.13.2"
  }
 },
 "nbformat": 4,
 "nbformat_minor": 5
}
